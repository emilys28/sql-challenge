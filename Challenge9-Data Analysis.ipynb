{
 "cells": [
  {
   "cell_type": "markdown",
   "id": "9cbfaba7",
   "metadata": {},
   "source": [
    "# Challenge 9: Data Analysis"
   ]
  },
  {
   "cell_type": "markdown",
   "id": "4c7e3cf8",
   "metadata": {},
   "source": [
    "## 1. List the employee number, last name, first name, sex, and salary of each employee."
   ]
  },
  {
   "cell_type": "markdown",
   "id": "0fbfcf70",
   "metadata": {},
   "source": [
    "## 2. List the first name, last name, and hire date for the employees who were hired in 1986."
   ]
  },
  {
   "cell_type": "markdown",
   "id": "abfbad36",
   "metadata": {},
   "source": [
    "## 3. List the manager of each department along with their department number, department name, employee number, last name, and first name."
   ]
  },
  {
   "cell_type": "markdown",
   "id": "5d78efbe",
   "metadata": {},
   "source": [
    "## 4. List the department number for each employee along with that employee’s employee number, last name, first name, and department name."
   ]
  },
  {
   "cell_type": "markdown",
   "id": "24040bfa",
   "metadata": {},
   "source": [
    "## 5. List first name, last name, and sex of each employee whose first name is Hercules and whose last name begins with the letter B."
   ]
  },
  {
   "cell_type": "markdown",
   "id": "ca68e25c",
   "metadata": {},
   "source": [
    "## 6. List each employee in the Sales department, including their employee number, last name, and first name."
   ]
  },
  {
   "cell_type": "markdown",
   "id": "925deffe",
   "metadata": {},
   "source": [
    "## 7. List each employee in the Sales and Development departments, including their employee number, last name, first name, and department name."
   ]
  },
  {
   "cell_type": "markdown",
   "id": "84e695c3",
   "metadata": {},
   "source": [
    "## 8. List the frequency counts, in descending order, of all the employee last names (that is, how many employees share each last name)."
   ]
  },
  {
   "cell_type": "code",
   "execution_count": null,
   "id": "f728f748",
   "metadata": {},
   "outputs": [],
   "source": []
  }
 ],
 "metadata": {
  "kernelspec": {
   "display_name": "Python 3 (ipykernel)",
   "language": "python",
   "name": "python3"
  },
  "language_info": {
   "codemirror_mode": {
    "name": "ipython",
    "version": 3
   },
   "file_extension": ".py",
   "mimetype": "text/x-python",
   "name": "python",
   "nbconvert_exporter": "python",
   "pygments_lexer": "ipython3",
   "version": "3.11.5"
  }
 },
 "nbformat": 4,
 "nbformat_minor": 5
}
